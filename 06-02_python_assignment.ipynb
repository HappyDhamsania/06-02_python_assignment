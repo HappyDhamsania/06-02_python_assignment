{
 "cells": [
  {
   "cell_type": "markdown",
   "id": "700a7093-0713-415e-a8a1-d4d595514fe0",
   "metadata": {},
   "source": [
    "Q1. Create a function which will take a list as an argument and return the product of all the numbers\n",
    "after creating a flat list.\n",
    "Use the below-given list as an argument for your function.\n",
    "\n",
    "list1 = [1,2,3,4, [44,55,66, True], False, (34,56,78,89,34), {1,2,3,3,2,1}, {1:34, \"key2\": [55, 67, 78, 89], 4: (45,\n",
    "22, 61, 34)}, [56, 'data science'], 'Machine Learning']\n",
    "\n",
    "Note: you must extract numeric keys and values of the dictionary also."
   ]
  },
  {
   "cell_type": "code",
   "execution_count": 27,
   "id": "d151868a-3de9-45a5-bfad-873427232746",
   "metadata": {},
   "outputs": [],
   "source": [
    "l1 = [1,2,3,4, [44,55,66, True], False, (34,56,78,89,34), {1,2,3,3,2,1}, {1:34, \"key2\": [55, 67, 78, 89], 4: (45,\n",
    "22, 61, 34)}, [56, 'data science'], 'Machine Learning']"
   ]
  },
  {
   "cell_type": "code",
   "execution_count": 30,
   "id": "03724aa2-07fd-47ed-aaf1-79ad3d7612af",
   "metadata": {},
   "outputs": [
    {
     "name": "stdout",
     "output_type": "stream",
     "text": [
      "[1, 2, 3, 4, 44, 55, 66, 34, 56, 78, 89, 34, 1, 2, 3, 1, 34, 55, 67, 78, 89, 4, 45, 22, 61, 34, 56]\n"
     ]
    }
   ],
   "source": [
    "l2 = []\n",
    "for i in l1:\n",
    "    if type(i)==int or type(i)==float:\n",
    "        l2.append(i)\n",
    "    elif type(i)==list:\n",
    "        for j in i:\n",
    "            if type(j)==int or type(j)==float:\n",
    "                l2.append(j)\n",
    "    elif type(i)==tuple:\n",
    "        for h in i:\n",
    "            if type(h)==int or type(h)==float:\n",
    "                l2.append(h)\n",
    "    elif type(i)==set:\n",
    "        for g in i:\n",
    "            if type(g)==int or type(g)==float:\n",
    "                l2.append(g)\n",
    "    elif type(i)==dict:\n",
    "        for key,value in i.items():\n",
    "            if type(key)==int or type(key)==float:\n",
    "                l2.append(key)\n",
    "            if type(value)==int or type(value)==float:\n",
    "                l2.append(value)\n",
    "            elif type(value)==tuple or type(value)==list:\n",
    "                for f in value:\n",
    "                    if type(f)==int or type(f)==float:\n",
    "                        l2.append(f)\n",
    "            \n",
    "print(l2)"
   ]
  },
  {
   "cell_type": "code",
   "execution_count": 31,
   "id": "1d465aef-fc98-4de6-966f-6ac946a31caf",
   "metadata": {},
   "outputs": [
    {
     "name": "stdout",
     "output_type": "stream",
     "text": [
      "4134711838987085478833841242112000\n"
     ]
    }
   ],
   "source": [
    "from functools import reduce\n",
    "\n",
    "product = reduce(lambda x,y : x*y, l2)\n",
    "print(product)"
   ]
  },
  {
   "cell_type": "markdown",
   "id": "f07e5099-01c0-433b-b6d5-a9a634dd3ca9",
   "metadata": {},
   "source": [
    "Q2. Write a python program for encrypting a message sent to you by your friend. The logic of encryption\n",
    "should be such that, for a the output should be z. For b, the output should be y. For c, the output should\n",
    "be x respectively. Also, the whitespace should be replaced with a dollar sign. Keep the punctuation\n",
    "marks unchanged.\n",
    "\n",
    "Input Sentence: I want to become a Data Scientist.\n",
    "\n",
    "Encrypt the above input sentence using the program you just created.\n",
    "\n",
    "Note: Convert the given input sentence into lowercase before encrypting. The final output should be\n",
    "lowercase."
   ]
  },
  {
   "cell_type": "code",
   "execution_count": 74,
   "id": "f9944d8e-7418-4926-aac9-d97de06e418f",
   "metadata": {},
   "outputs": [
    {
     "name": "stdout",
     "output_type": "stream",
     "text": [
      "r$dzmg$gl$yvxlnv$z$wzgz$hxrvmgrhg\n"
     ]
    }
   ],
   "source": [
    "alpha='abcdefghijklmnopqrstuvwxyz'\n",
    "\n",
    "a='I want to become a Data Scientist'\n",
    "a=a.lower()\n",
    "a1=[]\n",
    "\n",
    "for i in a:\n",
    "    if i==alpha[alpha.find(i)]:\n",
    "        a1.append(alpha[-(int(alpha.index(i)+1))])\n",
    "    elif i==\" \":\n",
    "        a1.append('$')\n",
    "answer=''.join(map(str,a1))\n",
    "print(answer)"
   ]
  }
 ],
 "metadata": {
  "kernelspec": {
   "display_name": "Python 3 (ipykernel)",
   "language": "python",
   "name": "python3"
  },
  "language_info": {
   "codemirror_mode": {
    "name": "ipython",
    "version": 3
   },
   "file_extension": ".py",
   "mimetype": "text/x-python",
   "name": "python",
   "nbconvert_exporter": "python",
   "pygments_lexer": "ipython3",
   "version": "3.10.8"
  }
 },
 "nbformat": 4,
 "nbformat_minor": 5
}
